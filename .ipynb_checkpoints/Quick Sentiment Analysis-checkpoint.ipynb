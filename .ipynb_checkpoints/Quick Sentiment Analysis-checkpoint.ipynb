{
 "cells": [
  {
   "cell_type": "code",
   "execution_count": 1,
   "metadata": {},
   "outputs": [
    {
     "name": "stderr",
     "output_type": "stream",
     "text": [
      "[nltk_data] Error loading vader_lexicon: <urlopen error [Errno 11001]\n",
      "[nltk_data]     getaddrinfo failed>\n"
     ]
    }
   ],
   "source": [
    "##NLTK LIBRARY#####\n",
    "import nltk\n",
    "nltk.download('vader_lexicon') \n",
    "from nltk.sentiment import SentimentIntensityAnalyzer ##CLASS NAME\n",
    "sia = SentimentIntensityAnalyzer() ##sia = object name that will inherit the CLASSNAME"
   ]
  },
  {
   "cell_type": "code",
   "execution_count": 5,
   "metadata": {},
   "outputs": [
    {
     "name": "stdout",
     "output_type": "stream",
     "text": [
      "{'neg': 0.0, 'neu': 0.192, 'pos': 0.808, 'compound': 0.6369}\n"
     ]
    }
   ],
   "source": [
    "scores = sia.polarity_scores(\"I love Kento\") ##Sample Sentence ##sia is used to call the method 'polarity_scores'\n",
    "print(scores) ##scores - variable before this code"
   ]
  },
  {
   "cell_type": "code",
   "execution_count": 6,
   "metadata": {},
   "outputs": [
    {
     "name": "stdout",
     "output_type": "stream",
     "text": [
      "Negative: 0.0\n",
      "Neutral: 0.192\n",
      "Positive: 0.808\n"
     ]
    }
   ],
   "source": [
    "print('Negative: ' + str(scores['neg'])) ##display the result based on the key value pair 'neg', 'neu', 'pos'\n",
    "print('Neutral: ' + str(scores['neu']))\n",
    "print('Positive: ' + str(scores['pos']))"
   ]
  }
 ],
 "metadata": {
  "kernelspec": {
   "display_name": "Python 3",
   "language": "python",
   "name": "python3"
  },
  "language_info": {
   "codemirror_mode": {
    "name": "ipython",
    "version": 3
   },
   "file_extension": ".py",
   "mimetype": "text/x-python",
   "name": "python",
   "nbconvert_exporter": "python",
   "pygments_lexer": "ipython3",
   "version": "3.7.6"
  }
 },
 "nbformat": 4,
 "nbformat_minor": 4
}
