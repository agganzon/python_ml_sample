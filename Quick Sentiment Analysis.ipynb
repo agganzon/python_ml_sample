{
 "cells": [
  {
   "cell_type": "code",
   "execution_count": 1,
   "metadata": {},
   "outputs": [],
   "source": [
    "##NLTK LIBRARY#####\n",
    "import nltk\n",
    "from nltk.sentiment import SentimentIntensityAnalyzer ##CLASS NAME\n",
    "sia = SentimentIntensityAnalyzer() ##sia = object name that will inherit the CLASSNAME"
   ]
  },
  {
   "cell_type": "code",
   "execution_count": 2,
   "metadata": {},
   "outputs": [
    {
     "name": "stdout",
     "output_type": "stream",
     "text": [
      "{'neg': 0.648, 'neu': 0.352, 'pos': 0.0, 'compound': -0.5684}\n"
     ]
    }
   ],
   "source": [
    "scores = sia.polarity_scores(\"FACESHIELD IS USELESS!!!\") ##Sample Sentence ##sia is used to call the method 'polarity_scores'\n",
    "print(scores) ##scores - variable before this code"
   ]
  },
  {
   "cell_type": "code",
   "execution_count": 5,
   "metadata": {},
   "outputs": [
    {
     "data": {
      "text/plain": [
       "'Sentiment Score: -0.5684'"
      ]
     },
     "execution_count": 5,
     "metadata": {},
     "output_type": "execute_result"
    }
   ],
   "source": [
    "'Sentiment Score: ' + str(scores['compound'])"
   ]
  },
  {
   "cell_type": "code",
   "execution_count": 8,
   "metadata": {},
   "outputs": [
    {
     "name": "stdout",
     "output_type": "stream",
     "text": [
      "NEGATIVE\n"
     ]
    }
   ],
   "source": [
    "if scores['compound']>=0.5:\n",
    "    print('HIGHLY POSITIVE')\n",
    "elif scores['compound']>=0 and scores['compound']<0.5:\n",
    "    print('POSITIVE')\n",
    "else:\n",
    "    print('NEGATIVE')"
   ]
  },
  {
   "cell_type": "code",
   "execution_count": null,
   "metadata": {},
   "outputs": [],
   "source": []
  }
 ],
 "metadata": {
  "kernelspec": {
   "display_name": "Python 3",
   "language": "python",
   "name": "python3"
  },
  "language_info": {
   "codemirror_mode": {
    "name": "ipython",
    "version": 3
   },
   "file_extension": ".py",
   "mimetype": "text/x-python",
   "name": "python",
   "nbconvert_exporter": "python",
   "pygments_lexer": "ipython3",
   "version": "3.7.6"
  }
 },
 "nbformat": 4,
 "nbformat_minor": 4
}
